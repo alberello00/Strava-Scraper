{
 "cells": [
  {
   "cell_type": "markdown",
   "metadata": {},
   "source": [
    "# Data collection\n",
    "\n",
    "The heart of this project lies in the data collection process. To gather comprehensive and diverse data, we suggest exploring the following sources:\n",
    "\n",
    "Strava API: Leverage the Strava API to access a vast pool of public running data. This includes information on distance, pace, elevation, heart rate, and more.\n",
    "\n",
    "Public Repositories: Look for public datasets on platforms like GitHub, Kaggle, or other data sharing platforms. These repositories may contain anonymized runner data that can be used for analysis.\n",
    "\n",
    "Fitness Apps: Consider reaching out to popular fitness apps for access to anonymized or aggregated user data. Some apps might have APIs or data-sharing programs for research purposes.\n",
    "\n",
    "User-Generated Content: Explore forums, communities, and social media platforms where runners share their training experiences. Web scraping or utilizing APIs may be necessary to collect this data.\n",
    "\n"
   ]
  },
  {
   "cell_type": "markdown",
   "metadata": {},
   "source": []
  },
  {
   "cell_type": "code",
   "execution_count": null,
   "metadata": {},
   "outputs": [],
   "source": []
  },
  {
   "cell_type": "code",
   "execution_count": null,
   "metadata": {},
   "outputs": [],
   "source": []
  }
 ],
 "metadata": {
  "language_info": {
   "name": "python"
  },
  "orig_nbformat": 4
 },
 "nbformat": 4,
 "nbformat_minor": 2
}
